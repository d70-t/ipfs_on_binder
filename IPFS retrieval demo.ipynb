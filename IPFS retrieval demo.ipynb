{
 "cells": [
  {
   "cell_type": "code",
   "execution_count": null,
   "id": "098a239e-34d9-4055-b8eb-5da8628058ba",
   "metadata": {},
   "outputs": [],
   "source": [
    "import fsspec\n",
    "\n",
    "class IPFSJpeg:\n",
    "    def __init__(self, cid):\n",
    "        self.cid = cid\n",
    "\n",
    "    def _repr_jpeg_(self):\n",
    "        with fsspec.open(f\"ipfs://{self.cid}\") as of:\n",
    "            return of.read()"
   ]
  },
  {
   "cell_type": "code",
   "execution_count": null,
   "id": "8854e0c0-1fbb-4369-8a75-56e7a33b8339",
   "metadata": {},
   "outputs": [],
   "source": [
    "IPFSJpeg(\"QmSgvgwxZGaBLqkGyWemEDqikCqU52XxsYLKtdy3vGZ8uq\")"
   ]
  }
 ],
 "metadata": {
  "kernelspec": {
   "display_name": "Python 3 (ipykernel)",
   "language": "python",
   "name": "python3"
  },
  "language_info": {
   "codemirror_mode": {
    "name": "ipython",
    "version": 3
   },
   "file_extension": ".py",
   "mimetype": "text/x-python",
   "name": "python",
   "nbconvert_exporter": "python",
   "pygments_lexer": "ipython3",
   "version": "3.7.10"
  }
 },
 "nbformat": 4,
 "nbformat_minor": 5
}
